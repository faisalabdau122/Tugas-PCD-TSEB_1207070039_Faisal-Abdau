{
  "nbformat": 4,
  "nbformat_minor": 0,
  "metadata": {
    "colab": {
      "provenance": []
    },
    "kernelspec": {
      "name": "python3",
      "display_name": "Python 3"
    },
    "language_info": {
      "name": "python"
    }
  },
  "cells": [
    {
      "cell_type": "code",
      "execution_count": 5,
      "metadata": {
        "colab": {
          "base_uri": "https://localhost:8080/",
          "height": 135
        },
        "id": "ydKOBdn8M4nx",
        "outputId": "e93c985e-0f8a-49e6-cee6-2fa15a93c0a6"
      },
      "outputs": [
        {
          "output_type": "error",
          "ename": "IndentationError",
          "evalue": "ignored",
          "traceback": [
            "\u001b[0;36m  File \u001b[0;32m\"<ipython-input-5-104f969df351>\"\u001b[0;36m, line \u001b[0;32m11\u001b[0m\n\u001b[0;31m    for j in range(0, width):\u001b[0m\n\u001b[0m    ^\u001b[0m\n\u001b[0;31mIndentationError\u001b[0m\u001b[0;31m:\u001b[0m expected an indented block after 'for' statement on line 10\n"
          ]
        }
      ],
      "source": [
        "\n",
        "import numpy as np\n",
        "import imageio\n",
        "import matplotlib.pyplot as plt\n",
        "import cv2\n",
        "\n",
        "Membaca gambar\n",
        "# img = imageio.imread(\"gambar4.jpg\")\n",
        "img_bgr = cv2.imread(\"gambar4.jpg\")\n",
        "img = cv2.cvtColor(img_bgr, cv2.COLOR_BGR2RGB)\n",
        "height, width, channel = img_bgr.shape"
      ]
    },
    {
      "cell_type": "markdown",
      "source": [],
      "metadata": {
        "id": "cVNfW98Lt34O"
      }
    }
  ]
}