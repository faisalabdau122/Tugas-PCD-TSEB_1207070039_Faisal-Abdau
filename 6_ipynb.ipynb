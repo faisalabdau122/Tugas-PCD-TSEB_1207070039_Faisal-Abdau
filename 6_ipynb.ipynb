{
  "nbformat": 4,
  "nbformat_minor": 0,
  "metadata": {
    "colab": {
      "provenance": []
    },
    "kernelspec": {
      "name": "python3",
      "display_name": "Python 3"
    },
    "language_info": {
      "name": "python"
    }
  },
  "cells": [
    {
      "cell_type": "code",
      "execution_count": null,
      "metadata": {
        "id": "ydKOBdn8M4nx"
      },
      "outputs": [],
      "source": [
        "# tampilkan kedua gambar\n",
        "from matplotlib import pyplot as plt\n",
        "# panggil dan konversi warna agar sesuai dengan Matplotlib\n",
        "einstein = cv2.imread('einstein.png')\n",
        "einstein = cv2.cvtColor(einstein, cv2.COLOR_BGR2RGB) # simpan dengan nama yang\n",
        "sama = ditumpuk\n",
        "# panggil dan konversi warna agar sesuai dengan Matplotlib\n",
        "solvay = cv2.imread('solvayconference.jpg')\n",
        "solvay = cv2.cvtColor(solvay, cv2.COLOR_BGR2RGB)\n",
        "plt.subplot(121),plt.imshow(einstein), plt.title('Einstein')\n",
        "plt.subplot(122),plt.imshow(solvay), plt.title('Solvay Conference 1927')\n",
        "plt.show()\n",
        "Selanjutnya, lakukan Template Matching pada gambar Einstein dan Gambar Solvay\n",
        "Conference untuk mencari di mana Einstein duduk:\n",
        "\n",
        "import cv2\n",
        "import numpy as np\n",
        "from matplotlib import pyplot as plt\n",
        "img = cv2.imread('solvayconference.jpg',0)\n",
        "img2 = img.copy()\n",
        "template = cv2.imread('einstein.png',0)\n",
        "w, h = template.shape[::-1]\n",
        "# All the 6 methods for comparison in a list\n",
        "methods = ['cv2.TM_CCOEFF', 'cv2.TM_CCOEFF_NORMED', 'cv2.TM_CCORR',\n",
        "'cv2.TM_CCORR_NORMED', 'cv2.TM_SQDIFF', 'cv2.TM_SQDIFF_NORMED']\n",
        "\n",
        "# perbesar ukuran hasil plotting\n",
        "plt.rcParams[\"figure.figsize\"] = (15,15)\n",
        "for met in methods:\n",
        "img = img2.copy()\n",
        "method = eval(met)\n",
        "# menggunakan template matching\n",
        "res = cv2.matchTemplate(img,template,method)\n",
        "# mencari ukuran citra template untuk menggambar kotak\n",
        "min_val, max_val, min_loc, max_loc = cv2.minMaxLoc(res)\n",
        "# metode TM_SQDIFF dan TM_SQDIFF_NORMED menggunakan persamaan yang sedikit\n",
        "berbeda\n",
        "# sehingga dibuatkan fungsi khusus untuk mengambil nilai minimum\n",
        "if method in [cv2.TM_SQDIFF, cv2.TM_SQDIFF_NORMED]:\n",
        "top_left = min_loc\n",
        "else:\n",
        "top_left = max_loc\n",
        "bottom_right = (top_left[0] + w, top_left[1] + h)\n",
        "\n",
        "# buat persegi pada lokasi yang ditemukan\n",
        "cv2.rectangle(img, top_left, bottom_right, 255, 2) # 2 adalah ketebalan garis\n",
        "kotak\n",
        "print(\"hasil metode\", met, \": \" )\n",
        "plt.subplot(121),plt.imshow(res,cmap = 'gray')\n",
        "plt.title('Hasil matching'), plt.xticks([]), plt.yticks([])\n",
        "plt.subplot(122),plt.imshow(img,cmap = 'gray')\n",
        "\n",
        "plt.title('Lokasi terdeteksi'), plt.xticks([]), plt.yticks([])\n",
        "\n",
        "plt.show()"
      ]
    },
    {
      "cell_type": "markdown",
      "source": [],
      "metadata": {
        "id": "cVNfW98Lt34O"
      }
    }
  ]
}