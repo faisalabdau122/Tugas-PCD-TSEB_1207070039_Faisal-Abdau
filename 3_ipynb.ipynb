{
  "nbformat": 4,
  "nbformat_minor": 0,
  "metadata": {
    "colab": {
      "provenance": []
    },
    "kernelspec": {
      "name": "python3",
      "display_name": "Python 3"
    },
    "language_info": {
      "name": "python"
    }
  },
  "cells": [
    {
      "cell_type": "code",
      "execution_count": null,
      "metadata": {
        "id": "ydKOBdn8M4nx"
      },
      "outputs": [],
      "source": [
        "import matplotlib.pyplot as plt\n",
        "from skimage.feature import greycomatrix, greycoprops\n",
        "from skimage import data\n",
        "PATCH_SIZE = 21\n",
        "# load image\n",
        "image = data.camera()\n",
        "grass_locations = [(280, 454), (342, 223), (444, 192), (455, 455)]\n",
        "grass_patches = []\n",
        "for loc in grass_locations:\n",
        "grass_patches.append(image[loc[0]:loc[0] + PATCH_SIZE,\n",
        "loc[1]:loc[1] + PATCH_SIZE])\n",
        "sky_locations = [(38, 34), (139, 28), (37, 437), (145, 379)]\n",
        "sky_patches = []\n",
        "for loc in sky_locations:\n",
        "sky_patches.append(image[loc[0]:loc[0] + PATCH_SIZE,\n",
        "loc[1]:loc[1] + PATCH_SIZE])\n",
        "\n",
        "# menghitung GLCM\n",
        "xs = []\n",
        "ys = []\n",
        "for patch in (grass_patches + sky_patches):\n",
        "glcm = greycomatrix(patch, distances=[5], angles=[0], levels=256,\n",
        "\n",
        "symmetric=True, normed=True)\n",
        "xs.append(greycoprops(glcm, 'dissimilarity')[0, 0])\n",
        "ys.append(greycoprops(glcm, 'correlation')[0, 0])\n",
        "fig = plt.figure(figsize=(8, 8))\n",
        "# tampilkan original image dengan lokasi patches\n",
        "ax = fig.add_subplot(3, 2, 1)\n",
        "ax.imshow(image, cmap=plt.cm.gray,\n",
        "vmin=0, vmax=255)\n",
        "for (y, x) in grass_locations:\n",
        "ax.plot(x + PATCH_SIZE / 2, y + PATCH_SIZE / 2, 'gs')\n",
        "for (y, x) in sky_locations:\n",
        "ax.plot(x + PATCH_SIZE / 2, y + PATCH_SIZE / 2, 'bs')\n",
        "ax.set_xlabel('Original Image')\n",
        "ax.set_xticks([])\n",
        "ax.set_yticks([])\n",
        "ax.axis('image')\n",
        "# plot (dissimilarity, correlation)\n",
        "ax = fig.add_subplot(3, 2, 2)\n",
        "ax.plot(xs[:len(grass_patches)], ys[:len(grass_patches)], 'go',\n",
        "label='Grass')\n",
        "ax.plot(xs[len(grass_patches):], ys[len(grass_patches):], 'bo',\n",
        "label='Sky')\n",
        "ax.set_xlabel('GLCM Dissimilarity')\n",
        "ax.set_ylabel('GLCM Correlation')\n",
        "ax.legend()\n",
        "# display\n",
        "for i, patch in enumerate(grass_patches):\n",
        "ax = fig.add_subplot(3, len(grass_patches), len(grass_patches)*1 + i + 1)\n",
        "ax.imshow(patch, cmap=plt.cm.gray,\n",
        "vmin=0, vmax=255)\n",
        "ax.set_xlabel('Grass %d' % (i + 1))\n",
        "for i, patch in enumerate(sky_patches):\n",
        "ax = fig.add_subplot(3, len(sky_patches), len(sky_patches)*2 + i + 1)\n",
        "ax.imshow(patch, cmap=plt.cm.gray,\n",
        "vmin=0, vmax=255)\n",
        "ax.set_xlabel('Sky %d' % (i + 1))\n",
        "\n",
        "# display\n",
        "fig.suptitle('Grey level co-occurrence matrix features', fontsize=14, y=1.05)\n",
        "\n",
        "plt.tight_layout()\n",
        "plt.show()"
      ]
    },
    {
      "cell_type": "markdown",
      "source": [],
      "metadata": {
        "id": "cVNfW98Lt34O"
      }
    }
  ]
}