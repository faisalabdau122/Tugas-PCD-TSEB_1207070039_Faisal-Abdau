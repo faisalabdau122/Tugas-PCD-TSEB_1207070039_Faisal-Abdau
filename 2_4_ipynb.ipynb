{
  "nbformat": 4,
  "nbformat_minor": 0,
  "metadata": {
    "colab": {
      "provenance": []
    },
    "kernelspec": {
      "name": "python3",
      "display_name": "Python 3"
    },
    "language_info": {
      "name": "python"
    }
  },
  "cells": [
    {
      "cell_type": "code",
      "execution_count": null,
      "metadata": {
        "id": "ydKOBdn8M4nx"
      },
      "outputs": [],
      "source": [
        "\n",
        "import numpy as np\n",
        "import imageio\n",
        "import matplotlib.pyplot as plt\n",
        "import cv2\n",
        "\n",
        "makeItZero()\n",
        "# th = int(256/64)\n",
        "temp = [0]\n",
        "for y in range(0, height):\n",
        "for x in range(0, width):\n",
        "red = int(img[y][x][0])\n",
        "green = int(img[y][x][1])\n",
        "\n",
        "blue = int(img[y][x][2])\n",
        "red = red + 0\n",
        "green = green + 256\n",
        "blue = blue + 512\n",
        "# temp.append(green)\n",
        "hgrgb[red] += 1\n",
        "hgrgb[green] += 1\n",
        "hgrgb[blue] += 1\n",
        "binsrgb = np.linspace(0, 768, 100)\n",
        "binsr = np.linspace(0, 0, 100)\n",
        "plt.hist(hgr, binsr, color = \"red\", alpha=0.5)\n",
        "binsg = np.linspace(0, 256, 100)\n",
        "plt.hist(hgr, binsg, color = \"green\", alpha=0.5)\n",
        "binsb = np.linspace(0, 768, 100)\n",
        "plt.hist(hgr, binsb, color = \"blue\", alpha=0.5)\n",
        "#plt.hist(hgr, binsrgb, alpha=0.5)\n",
        "plt.plot(hgrgb)\n",
        "plt.title(\"Histogram Red Green Blue\")"
      ]
    },
    {
      "cell_type": "markdown",
      "source": [],
      "metadata": {
        "id": "cVNfW98Lt34O"
      }
    }
  ]
}