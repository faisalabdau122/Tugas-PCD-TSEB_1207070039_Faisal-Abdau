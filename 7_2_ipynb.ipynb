{
  "nbformat": 4,
  "nbformat_minor": 0,
  "metadata": {
    "colab": {
      "provenance": []
    },
    "kernelspec": {
      "name": "python3",
      "display_name": "Python 3"
    },
    "language_info": {
      "name": "python"
    }
  },
  "cells": [
    {
      "cell_type": "code",
      "execution_count": null,
      "metadata": {
        "id": "ydKOBdn8M4nx"
      },
      "outputs": [],
      "source": [
        "import cv2\n",
        "import numpy as np\n",
        "from google.colab.patches import cv2_imshow\n",
        "## membaca gambar utuh untuk dicari\n",
        "img_rgb = cv2.imread('kelompoksawit.jpg')\n",
        "img_gray = cv2.cvtColor(img_rgb, cv2.COLOR_BGR2GRAY)\n",
        "## membaca template\n",
        "template = cv2.imread('sawit.jpg',0)\n",
        "## ukuran template. ukuran ini akan digunakan untuk menggambar kotak\n",
        "w, h = template.shape[::-1]\n",
        "# menggunakan metode COEFF-NORMALIZED\n",
        "res = cv2.matchTemplate(img_gray,template,cv2.TM_CCOEFF_NORMED)\n",
        "# Nilai threshold atau ambang batas deteksi kemiripan titik.\n",
        "# Lakukan eksperimen dengan merubah nilai ini\n",
        "threshold = 0.15\n",
        "loc = np.where(res >= threshold)\n",
        "## membuat array kosong untuk menyimpan lokasi-lokasi dari hasil deteksi\n",
        "lspoint=[]\n",
        "lspoint2=[]\n",
        "count = 0 # untuk menyimpan jumlah matching yang ditemukan\n",
        "for pt in zip(*loc[::-1]):\n",
        "## jika sudah ada, skip lokasi tersebut\n",
        "if pt[0] not in lspoint and pt[1] not in lspoint2:\n",
        "## gambar persegi warna kuning dengan ketebalan dua poin\n",
        "cv2.rectangle(img_rgb, pt, (pt[0] + w, pt[1] + h), (0,255,255), 2)\n",
        "for i in range(((pt[0])-9), ((pt[0])+9),1):\n",
        "## tambahkan koordinat x ke list\n",
        "lspoint.append(i)\n",
        "for k in range(((pt[1])-9), ((pt[1])+9),1):\n",
        "## tambahkan koordinat y ke list\n",
        "lspoint2.append(k)\n",
        "count+=1 ### berapa jumlah matching yang ditemukan?\n",
        "else:\n",
        "continue\n",
        "print (\"Jumlah objek ditemukan \", count)\n",
        "\n",
        "## tampilkan dengan imshow\n",
        "cv2_imshow(img_rgb)"
      ]
    },
    {
      "cell_type": "markdown",
      "source": [],
      "metadata": {
        "id": "cVNfW98Lt34O"
      }
    }
  ]
}