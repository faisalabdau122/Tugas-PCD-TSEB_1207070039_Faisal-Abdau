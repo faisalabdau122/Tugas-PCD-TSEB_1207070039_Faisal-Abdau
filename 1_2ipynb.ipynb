{
  "nbformat": 4,
  "nbformat_minor": 0,
  "metadata": {
    "colab": {
      "provenance": []
    },
    "kernelspec": {
      "name": "python3",
      "display_name": "Python 3"
    },
    "language_info": {
      "name": "python"
    }
  },
  "cells": [
    {
      "cell_type": "code",
      "execution_count": 4,
      "metadata": {
        "colab": {
          "base_uri": "https://localhost:8080/",
          "height": 135
        },
        "id": "ydKOBdn8M4nx",
        "outputId": "08630353-23ed-4cdc-d66b-882d1a259adf"
      },
      "outputs": [
        {
          "output_type": "error",
          "ename": "IndentationError",
          "evalue": "ignored",
          "traceback": [
            "\u001b[0;36m  File \u001b[0;32m\"<ipython-input-4-75113b68640e>\"\u001b[0;36m, line \u001b[0;32m6\u001b[0m\n\u001b[0;31m    new_value = 0\u001b[0m\n\u001b[0m    ^\u001b[0m\n\u001b[0;31mIndentationError\u001b[0m\u001b[0;31m:\u001b[0m expected an indented block after function definition on line 5\n"
          ]
        }
      ],
      "source": [
        "import cv2 # OpenCV\n",
        "import numpy as np # NumPy\n",
        "from matplotlib import pyplot as plt # Matplotlib\n",
        "\n",
        "def show_output(output_list):\n",
        "output_list_len = len(output_list)\n",
        "figure = plt.figure(figsize=(20, 6))\n",
        "for i in range(output_list_len):\n",
        "current_dict = output_list[i]\n",
        "current_img = current_dict[\"img\"]\n",
        "current_xlabel = current_dict[\"xlabel\"]\n",
        "current_ylabel = current_dict[\"ylabel\"]\n",
        "current_xtick = current_dict[\"xtick\"]\n",
        "current_ytick = current_dict[\"ytick\"]\n",
        "current_title = current_dict[\"title\"]\n",
        "current_type = current_dict[\"type\"]\n",
        "current_plot = figure.add_subplot(1, output_list_len, i+1)\n",
        "if current_type == \"gray\":\n",
        "current_plot.imshow(current_img, cmap = plt.get_cmap('gray'))\n",
        "current_plot.set_title(current_title)\n",
        "current_plot.set_xticks(current_xtick)\n",
        "current_plot.set_yticks(current_ytick)\n",
        "current_plot.set_xlabel(current_xlabel)\n",
        "current_plot.set_ylabel(current_ylabel)\n",
        "elif current_type == \"histogram\":\n",
        "current_plot.plot(current_img, color = \"black\")\n",
        "current_plot.set_xlim([0,260])\n",
        "current_plot.set_title(current_title)\n",
        "current_plot.set_xlabel(current_xlabel)\n",
        "current_plot.set_ylabel(current_ylabel)\n",
        "ytick_list = [int(i) for i in current_plot.get_yticks()]\n",
        "current_plot.set_yticklabels(ytick_list,rotation = 90)\n",
        "elif current_type == \"normal\":\n",
        "current_plot.imshow(current_img)\n",
        "current_plot.set_title(current_title)\n",
        "current_plot.set_xticks(current_xtick)\n",
        "current_plot.set_yticks(current_ytick)\n",
        "current_plot.set_xlabel(current_xlabel)\n",
        "current_plot.set_ylabel(current_ylabel)\n",
        "\n",
        "plt.show()"
      ]
    }
  ]
}