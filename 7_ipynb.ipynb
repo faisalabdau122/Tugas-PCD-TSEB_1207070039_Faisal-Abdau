{
  "nbformat": 4,
  "nbformat_minor": 0,
  "metadata": {
    "colab": {
      "provenance": []
    },
    "kernelspec": {
      "name": "python3",
      "display_name": "Python 3"
    },
    "language_info": {
      "name": "python"
    }
  },
  "cells": [
    {
      "cell_type": "code",
      "execution_count": null,
      "metadata": {
        "id": "ydKOBdn8M4nx"
      },
      "outputs": [],
      "source": [
        "# tampilkan kedua gambar\n",
        "from matplotlib import pyplot as plt\n",
        "# panggil dan konversi warna agar sesuai dengan Matplotlib\n",
        "sawit = cv2.imread('sawit.png')\n",
        "sawit = cv2.cvtColor(sawit, cv2.COLOR_BGR2RGB)\n",
        "# panggil dan konversi warna agar sesuai dengan Matplotlib\n",
        "kebun_sawit = cv2.imread('kelompoksawit.jpg')\n",
        "kebun_sawit = cv2.cvtColor(kebun_sawit, cv2.COLOR_BGR2RGB)\n",
        "plt.subplot(121),plt.imshow(sawit), plt.title('sawit')\n",
        "plt.subplot(122),plt.imshow(kebun_sawit), plt.title('kebun sawit')\n",
        "plt.show()"
      ]
    },
    {
      "cell_type": "markdown",
      "source": [],
      "metadata": {
        "id": "cVNfW98Lt34O"
      }
    }
  ]
}