{
  "nbformat": 4,
  "nbformat_minor": 0,
  "metadata": {
    "colab": {
      "provenance": []
    },
    "kernelspec": {
      "name": "python3",
      "display_name": "Python 3"
    },
    "language_info": {
      "name": "python"
    }
  },
  "cells": [
    {
      "cell_type": "code",
      "execution_count": null,
      "metadata": {
        "id": "ydKOBdn8M4nx"
      },
      "outputs": [],
      "source": [
        "import numpy as np\n",
        "import cv2\n",
        "from matplotlib import pyplot as plt\n",
        "# gunakan gambar\n",
        "img = cv2.imread('gedungpusat.jpg')\n",
        "gray = cv2.cvtColor(img,cv2.COLOR_BGR2GRAY)\n",
        "\n",
        "# deteksi pojok dengan GFTT\n",
        "corners = cv2.goodFeaturesToTrack(gray,1000,0.01,10)\n",
        "corners = np.int0(corners)\n",
        "# menampilkan jumlah titik terdeteksi dengan fungsi numpy (np.ndarray.shape)\n",
        "print(\"jumlah titik terdeteksi = \", corners.shape[0])\n",
        "# untuk ditampilkan di Matplotlib, urutan band dibalik\n",
        "rgb = cv2.cvtColor(img,cv.COLOR_BGR2RGB)\n",
        "# perbesar ukuran hasil plotting\n",
        "plt.rcParams[\"figure.figsize\"] = (20,20)\n",
        "# untuk tiap pojok yang terdeteksi, munculkan pada gambar\n",
        "for i in corners:\n",
        "x,y = i.ravel()\n",
        "cv2.circle(rgb,(x,y),3,255,-1)\n",
        "plt.imshow(rgb),plt.show()"
      ]
    },
    {
      "cell_type": "markdown",
      "source": [],
      "metadata": {
        "id": "cVNfW98Lt34O"
      }
    }
  ]
}