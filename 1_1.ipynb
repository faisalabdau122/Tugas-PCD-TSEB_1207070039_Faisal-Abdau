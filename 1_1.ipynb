{
  "nbformat": 4,
  "nbformat_minor": 0,
  "metadata": {
    "colab": {
      "provenance": []
    },
    "kernelspec": {
      "name": "python3",
      "display_name": "Python 3"
    },
    "language_info": {
      "name": "python"
    }
  },
  "cells": [
    {
      "cell_type": "code",
      "execution_count": 4,
      "metadata": {
        "colab": {
          "base_uri": "https://localhost:8080/",
          "height": 135
        },
        "id": "ydKOBdn8M4nx",
        "outputId": "08630353-23ed-4cdc-d66b-882d1a259adf"
      },
      "outputs": [
        {
          "output_type": "error",
          "ename": "IndentationError",
          "evalue": "ignored",
          "traceback": [
            "\u001b[0;36m  File \u001b[0;32m\"<ipython-input-4-75113b68640e>\"\u001b[0;36m, line \u001b[0;32m6\u001b[0m\n\u001b[0;31m    new_value = 0\u001b[0m\n\u001b[0m    ^\u001b[0m\n\u001b[0;31mIndentationError\u001b[0m\u001b[0;31m:\u001b[0m expected an indented block after function definition on line 5\n"
          ]
        }
      ],
      "source": [
        "import cv2 # OpenCV\n",
        "import numpy as np # NumPy\n",
        "from matplotlib import pyplot as plt # Matplotlib\n",
        "\n",
        "def get_pixel(img, center, x, y):\n",
        "new_value = 0\n",
        "try:\n",
        "if img[x][y] >= center:\n",
        "new_value = 1\n",
        "except:\n",
        "pass\n",
        "return new_value\n",
        "\n",
        "\n",
        "\n"
      ]
    },
    {
      "cell_type": "code",
      "source": [],
      "metadata": {
        "id": "tlHNlyo6Ny3t"
      },
      "execution_count": null,
      "outputs": []
    }
  ]
}