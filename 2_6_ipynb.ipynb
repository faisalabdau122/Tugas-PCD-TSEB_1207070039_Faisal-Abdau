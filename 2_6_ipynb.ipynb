{
  "nbformat": 4,
  "nbformat_minor": 0,
  "metadata": {
    "colab": {
      "provenance": []
    },
    "kernelspec": {
      "name": "python3",
      "display_name": "Python 3"
    },
    "language_info": {
      "name": "python"
    }
  },
  "cells": [
    {
      "cell_type": "code",
      "execution_count": null,
      "metadata": {
        "id": "ydKOBdn8M4nx"
      },
      "outputs": [],
      "source": [
        "\n",
        "import numpy as np\n",
        "import imageio\n",
        "import matplotlib.pyplot as plt\n",
        "import cv2\n",
        "\n",
        "makeItZero()\n",
        "for y in range(0, img.shape[0]):\n",
        "for x in range(0, img.shape[1]):\n",
        "red = img[y][x][0]\n",
        "green = img[y][x][1]\n",
        "blue = img[y][x][2]\n",
        "hgr[red] += 1\n",
        "hgg[green] += 1\n",
        "hgb[blue] += 1\n",
        "def plot_result(red, green, blue):\n",
        "bins = np.linspace(0, 256, 128)\n",
        "fig, (ax1, ax2, ax3) = plt.subplots(1, 3, sharey=True)\n",
        "for ax in [ax1, ax2, ax3]:\n",
        "ax.spines[\"top\"].set_visible(False)\n",
        "\n",
        "ax.spines[\"right\"].set_visible(False)\n",
        "ax.spines[\"left\"].set_visible(False)\n",
        "ax.spines[\"bottom\"].set_visible(False)\n",
        "ax.grid(color='b', linestyle='--', linewidth=0.5, alpha=0.3)\n",
        "ax.tick_params(direction='out', color='b', width='1')\n",
        "ax1.set_title('Red')\n",
        "ax2.set_title('Green')\n",
        "ax3.set_title('Blue')\n",
        "ax1.hist(red, bins, color=\"red\", alpha=1)\n",
        "ax2.hist(green, bins, color=\"green\", alpha=1)\n",
        "ax3.hist(blue, bins, color=\"blue\", alpha=1)\n",
        "plt.rcParams['figure.figsize'] = [20, 7]\n",
        "plot_result(hgr, hgg, hgb)"
      ]
    },
    {
      "cell_type": "markdown",
      "source": [],
      "metadata": {
        "id": "cVNfW98Lt34O"
      }
    }
  ]
}