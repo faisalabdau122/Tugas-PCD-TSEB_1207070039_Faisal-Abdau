{
  "nbformat": 4,
  "nbformat_minor": 0,
  "metadata": {
    "colab": {
      "provenance": []
    },
    "kernelspec": {
      "name": "python3",
      "display_name": "Python 3"
    },
    "language_info": {
      "name": "python"
    }
  },
  "cells": [
    {
      "cell_type": "code",
      "execution_count": 5,
      "metadata": {
        "colab": {
          "base_uri": "https://localhost:8080/",
          "height": 135
        },
        "id": "ydKOBdn8M4nx",
        "outputId": "e93c985e-0f8a-49e6-cee6-2fa15a93c0a6"
      },
      "outputs": [
        {
          "output_type": "error",
          "ename": "IndentationError",
          "evalue": "ignored",
          "traceback": [
            "\u001b[0;36m  File \u001b[0;32m\"<ipython-input-5-104f969df351>\"\u001b[0;36m, line \u001b[0;32m11\u001b[0m\n\u001b[0;31m    for j in range(0, width):\u001b[0m\n\u001b[0m    ^\u001b[0m\n\u001b[0;31mIndentationError\u001b[0m\u001b[0;31m:\u001b[0m expected an indented block after 'for' statement on line 10\n"
          ]
        }
      ],
      "source": [
        "import cv2 # OpenCV\n",
        "import numpy as np # NumPy\n",
        "from matplotlib import pyplot as plt # Matplotlib\n",
        "\n",
        "image_file = 'coffe.jpg'\n",
        "img_bgr = cv2.imread(image_file)\n",
        "height, width, channel = img_bgr.shape\n",
        "img_gray = cv2.cvtColor(img_bgr, cv2.COLOR_BGR2GRAY)\n",
        "img_lbp = np.zeros((height, width,3), np.uint8)\n",
        "for i in range(0, height):\n",
        "for j in range(0, width):\n",
        "img_lbp[i, j] = lbp_calculated_pixel(img_gray, i, j)\n",
        "hist_lbp = cv2.calcHist([img_lbp], [0], None, [256], [0, 256])\n",
        "output_list = []\n",
        "output_list.append({\"img\": cv2.cvtColor(img_bgr, cv2.COLOR_BGR2RGB),\n",
        "\n",
        "\"xlabel\": \"\",\n",
        "\"ylabel\": \"\",\n",
        "\"xtick\": [],\n",
        "\"ytick\": [],\n",
        "\"title\": \"Normal Image\",\n",
        "\"type\": \"normal\"\n",
        "})\n",
        "\n",
        "output_list.append({\"img\": img_gray,\n",
        "\"xlabel\": \"\",\n",
        "\"ylabel\": \"\",\n",
        "\"xtick\": [],\n",
        "\"ytick\": [],\n",
        "\"title\": \"Gray Image\",\n",
        "\"type\": \"gray\"\n",
        "})\n",
        "\n",
        "output_list.append({\"img\": img_lbp,\n",
        "\"xlabel\": \"\",\n",
        "\"ylabel\": \"\",\n",
        "\"xtick\": [],\n",
        "\"ytick\": [],\n",
        "\"title\": \"LBP Image\",\n",
        "\"type\": \"gray\"\n",
        "})\n",
        "\n",
        "output_list.append({\"img\": hist_lbp,\n",
        "\"xlabel\": \"Bins\",\n",
        "\"ylabel\": \"Number of pixels\",\n",
        "\"xtick\": None,\n",
        "\"ytick\": None,\n",
        "\n",
        "\"title\": \"Histogram(LBP)\",\n",
        "\"type\": \"histogram\"\n",
        "})\n",
        "show_output(output_list)\n",
        "cv2.waitKey(0)\n",
        "cv2.destroyAllWindows()\n",
        "print(\"LBP Program selesai \")"
      ]
    }
  ]
}