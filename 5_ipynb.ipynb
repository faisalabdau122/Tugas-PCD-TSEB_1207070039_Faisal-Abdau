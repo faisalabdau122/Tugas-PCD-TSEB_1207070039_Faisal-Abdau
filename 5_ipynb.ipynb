{
  "nbformat": 4,
  "nbformat_minor": 0,
  "metadata": {
    "colab": {
      "provenance": []
    },
    "kernelspec": {
      "name": "python3",
      "display_name": "Python 3"
    },
    "language_info": {
      "name": "python"
    }
  },
  "cells": [
    {
      "cell_type": "code",
      "execution_count": null,
      "metadata": {
        "id": "ydKOBdn8M4nx"
      },
      "outputs": [],
      "source": [
        "import numpy as np\n",
        "import cv2\n",
        "from matplotlib import pyplot as plt\n",
        "# Gunakan gambar yang ada pada laptop masing-masing\n",
        "img1 = cv2.imread('webarebears.jpg') # gambar yang dituju\n",
        "img2 = cv2.imread('ice_bear.jpg') # gambar yang dicari\n",
        "gray1= cv2.cvtColor(img1,cv2.COLOR_BGR2GRAY)\n",
        "gray2= cv2.cvtColor(img2,cv2.COLOR_BGR2GRAY)\n",
        "# Menggunakan Detector SIFT\n",
        "sift = cv2.xfeatures2d.SIFT_create()\n",
        "# Mencari Keypoint dengan SIFT\n",
        "kp1, des1 = sift.detectAndCompute(gray1,None)\n",
        "kp2, des2 = sift.detectAndCompute(gray2,None)\n",
        "# Melakukan Matching dari hasil deteksi keypoints menggunakan\n",
        "# BruteForce Matcher\n",
        "bf = cv2.BFMatcher()\n",
        "matches = bf.knnMatch(des1,des2, k=2)\n",
        "# Uji rasio matching sederhana\n",
        "good = []\n",
        "for m,n in matches:\n",
        "if m.distance < 0.5*n.distance:\n",
        "good.append([m])\n",
        "img3 = None\n",
        "# menggambar hasil match pada gambar baru (IMG3)\n",
        "\n",
        "img3 = cv2.drawMatchesKnn(img1,kp1,img2,kp2,good,img3,flags=2)\n",
        "plt.imshow(cv2.cvtColor(img3, cv2.COLOR_BGR2RGB)),plt.show()"
      ]
    },
    {
      "cell_type": "markdown",
      "source": [],
      "metadata": {
        "id": "cVNfW98Lt34O"
      }
    }
  ]
}